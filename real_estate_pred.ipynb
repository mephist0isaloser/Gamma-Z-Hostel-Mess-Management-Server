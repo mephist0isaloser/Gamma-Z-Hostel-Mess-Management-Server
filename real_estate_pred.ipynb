{
  "nbformat": 4,
  "nbformat_minor": 0,
  "metadata": {
    "colab": {
      "provenance": [],
      "toc_visible": true,
      "authorship_tag": "ABX9TyMVN9LcRo4ErxCHsZpmcO00",
      "include_colab_link": true
    },
    "kernelspec": {
      "name": "python3",
      "display_name": "Python 3"
    },
    "language_info": {
      "name": "python"
    }
  },
  "cells": [
    {
      "cell_type": "markdown",
      "metadata": {
        "id": "view-in-github",
        "colab_type": "text"
      },
      "source": [
        "<a href=\"https://colab.research.google.com/github/mephist0isaloser/Gamma-Z-Hostel-Mess-Management-Server/blob/main/real_estate_pred.ipynb\" target=\"_parent\"><img src=\"https://colab.research.google.com/assets/colab-badge.svg\" alt=\"Open In Colab\"/></a>"
      ]
    },
    {
      "cell_type": "markdown",
      "source": [
        "# ***Real Estate Price Prediction***"
      ],
      "metadata": {
        "id": "LSR31FcbxIUE"
      }
    },
    {
      "cell_type": "markdown",
      "source": [
        "# Import and intro"
      ],
      "metadata": {
        "id": "DDp5gUY2yUzp"
      }
    },
    {
      "cell_type": "code",
      "execution_count": 1,
      "metadata": {
        "id": "ClTUNt4owl9s"
      },
      "outputs": [],
      "source": [
        "import pandas as pd"
      ]
    },
    {
      "cell_type": "markdown",
      "source": [
        "## Loading the dataset"
      ],
      "metadata": {
        "id": "KtT-w3qpykY1"
      }
    },
    {
      "cell_type": "code",
      "source": [
        "df = pd.read_csv('/content/Melbourne_housing_FULL.csv')\n"
      ],
      "metadata": {
        "id": "p7TgwM7r0R8X"
      },
      "execution_count": 3,
      "outputs": []
    },
    {
      "cell_type": "markdown",
      "source": [
        "## Splitting the data into X and Y"
      ],
      "metadata": {
        "id": "Q3S5rLW74zx9"
      }
    },
    {
      "cell_type": "code",
      "source": [
        "X = df.drop('Price', axis=1)\n",
        "Y = df['Price']"
      ],
      "metadata": {
        "id": "ssgj4-gE4_dp"
      },
      "execution_count": 4,
      "outputs": []
    },
    {
      "cell_type": "markdown",
      "source": [
        "# Spliting data into numerical and categorical"
      ],
      "metadata": {
        "id": "NJZZLLCMl9Ta"
      }
    },
    {
      "cell_type": "code",
      "source": [
        "X_numerical = X.select_dtypes(include=['float', 'int'])  # Select numerical features\n",
        "X_categorical = X.select_dtypes(include=['object'])  # Select categorical features\n"
      ],
      "metadata": {
        "id": "NMXxT6H7mIDX"
      },
      "execution_count": 5,
      "outputs": []
    },
    {
      "cell_type": "markdown",
      "source": [
        "## Handling the categorical data"
      ],
      "metadata": {
        "id": "9Tit6tmtmzZe"
      }
    },
    {
      "cell_type": "code",
      "source": [
        "from sklearn.preprocessing import OrdinalEncoder\n",
        "\n",
        "encoder = OrdinalEncoder()\n",
        "X_categorical_encoded = encoder.fit_transform(X_categorical)\n",
        "\n",
        "import numpy as np\n",
        "\n",
        "X_combined = np.concatenate((X_numerical, X_categorical_encoded), axis=1)\n"
      ],
      "metadata": {
        "id": "hfsQGblhm8CV"
      },
      "execution_count": 6,
      "outputs": []
    },
    {
      "cell_type": "markdown",
      "source": [
        "### *Handling the Nan characters for X*"
      ],
      "metadata": {
        "id": "wEIDfL-8wHNr"
      }
    },
    {
      "cell_type": "code",
      "source": [
        "from sklearn.impute import SimpleImputer\n",
        "\n",
        "imputer = SimpleImputer()\n",
        "X_combined_imputed = imputer.fit_transform(X_combined)"
      ],
      "metadata": {
        "id": "A75RVDLZwGyv"
      },
      "execution_count": 7,
      "outputs": []
    },
    {
      "cell_type": "markdown",
      "source": [
        "### Handling the NaN for Y"
      ],
      "metadata": {
        "id": "E3UkziBizMPM"
      }
    },
    {
      "cell_type": "code",
      "source": [
        "import numpy as np\n",
        "from sklearn.impute import SimpleImputer\n",
        "\n",
        "# Reshape the target variable to have 2D shape\n",
        "Y_reshaped = Y.values.reshape(-1, 1)\n",
        "\n",
        "# Apply SimpleImputer to impute missing values\n",
        "imputer = SimpleImputer()\n",
        "Y_imputed = imputer.fit_transform(Y_reshaped)\n",
        "\n",
        "# Convert back to 1D array if needed\n",
        "Y_imputed_1d = np.squeeze(Y_imputed)\n"
      ],
      "metadata": {
        "id": "O0ydkbWEzSGH"
      },
      "execution_count": 8,
      "outputs": []
    },
    {
      "cell_type": "markdown",
      "source": [
        "## Test and Train split\n"
      ],
      "metadata": {
        "id": "LKlJID666FJc"
      }
    },
    {
      "cell_type": "code",
      "source": [
        "import numpy as np\n",
        "\n",
        "def train_test_split_custom(X, y, test_size=0.2, random_state=None):\n",
        "    # Set random seed if specified\n",
        "    if random_state is not None:\n",
        "        np.random.seed(random_state)\n",
        "\n",
        "    # Shuffle the indices of the data\n",
        "    indices = np.arange(len(X))\n",
        "    np.random.shuffle(indices)\n",
        "\n",
        "    # Determine the split index based on the test size\n",
        "    split_index = int(len(X) * (1 - test_size))\n",
        "\n",
        "    # Split the data into training and testing sets\n",
        "    X_train = X[indices[:split_index]]\n",
        "    X_test = X[indices[split_index:]]\n",
        "    y_train = y[indices[:split_index]]\n",
        "    y_test = y[indices[split_index:]]\n",
        "\n",
        "    return X_train, X_test, y_train, y_test\n",
        "\n",
        "X_train, X_test, Y_train, Y_test = train_test_split_custom(X_combined_imputed, Y_imputed_1d, test_size=0.2, random_state=100)"
      ],
      "metadata": {
        "id": "MHL6UJPa6LYt"
      },
      "execution_count": 9,
      "outputs": []
    },
    {
      "cell_type": "markdown",
      "source": [
        "# **LinearRegression**"
      ],
      "metadata": {
        "id": "_7O-P8Mm6WXv"
      }
    },
    {
      "cell_type": "markdown",
      "source": [
        "## Training and predition"
      ],
      "metadata": {
        "id": "dgV-ntmm67X8"
      }
    },
    {
      "cell_type": "code",
      "source": [
        "import numpy as np\n",
        "\n",
        "def linear_regression(X, y):\n",
        "    # Add a column of ones to X for the intercept term\n",
        "    X = np.column_stack((np.ones((len(X), 1)), X))\n",
        "\n",
        "    # Calculate the regression coefficients (theta) using the normal equation\n",
        "    theta = np.linalg.inv(X.T @ X) @ X.T @ y\n",
        "\n",
        "    return theta\n",
        "\n",
        "def predict(X, theta):\n",
        "    # Add a column of ones to X for the intercept term\n",
        "    X = np.column_stack((np.ones((len(X), 1)), X))\n",
        "\n",
        "    # Calculate the predicted values\n",
        "    y_pred = X @ theta\n",
        "\n",
        "    return y_pred\n",
        "\n",
        "theta = linear_regression(X_train, Y_train)\n",
        "Y_test_pred = predict(X_test, theta)\n",
        "Y_train_pred = predict(X_train, theta)\n"
      ],
      "metadata": {
        "id": "ALV3vkDR6eCU"
      },
      "execution_count": 10,
      "outputs": []
    },
    {
      "cell_type": "markdown",
      "source": [
        "## Evalvate the model"
      ],
      "metadata": {
        "id": "Iuwak9Gl7BVP"
      }
    },
    {
      "cell_type": "code",
      "source": [
        "import numpy as np\n",
        "\n",
        "def mean_squared_error_custom(y_true, y_pred):\n",
        "    mse = np.mean((y_true - y_pred) ** 2)\n",
        "    return mse\n",
        "\n",
        "def r2_score_custom(y_true, y_pred):\n",
        "    ssr = np.sum((y_true - y_pred) ** 2)\n",
        "    sst = np.sum((y_true - np.mean(y_true)) ** 2)\n",
        "    r2 = 1 - (ssr / sst)\n",
        "    return r2\n",
        "\n",
        "def mean_absolute_error_custom(y_true, y_pred):\n",
        "    mae = np.mean(np.abs(y_true - y_pred))\n",
        "    return mae\n",
        "\n",
        "\n",
        "\n",
        "lr_train_mse = mean_squared_error_custom(Y_train, Y_train_pred)\n",
        "lr_train_r2 = r2_score_custom(Y_train,Y_train_pred)\n",
        "lr_train_mae = mean_absolute_error_custom(Y_train, Y_train_pred)\n",
        "\n",
        "lr_test_mse = mean_squared_error_custom(Y_test, Y_test_pred)\n",
        "lr_test_r2 = r2_score_custom(Y_test, Y_test_pred)\n",
        "lr_test_mae = mean_absolute_error_custom(Y_test, Y_test_pred)"
      ],
      "metadata": {
        "id": "tGS16RNm7YWk"
      },
      "execution_count": 11,
      "outputs": []
    },
    {
      "cell_type": "code",
      "source": [
        "lr_results = pd.DataFrame(['Linear regression', lr_train_mse, lr_train_r2,lr_train_mae, lr_test_mse, lr_test_r2, lr_test_mae]).transpose()\n",
        "lr_results.columns = ['Method', 'Training MSE', 'Training R2','Training MAE', 'Test MSE', 'Test R2', 'Test MAE']\n",
        "\n",
        "lr_results"
      ],
      "metadata": {
        "colab": {
          "base_uri": "https://localhost:8080/",
          "height": 179
        },
        "id": "yUyDhcqT0JYG",
        "outputId": "db89ef9b-ca4e-48f1-912f-e9ffd2b0d32d"
      },
      "execution_count": 12,
      "outputs": [
        {
          "output_type": "execute_result",
          "data": {
            "text/plain": [
              "              Method         Training MSE Training R2   Training MAE  \\\n",
              "0  Linear regression  187919374452.312775    0.415277  288941.731698   \n",
              "\n",
              "              Test MSE   Test R2       Test MAE  \n",
              "0  211937309665.698273  0.375671  289627.508921  "
            ],
            "text/html": [
              "\n",
              "\n",
              "  <div id=\"df-c90b53b6-a5ed-4b91-b908-35dfba6c0ca5\">\n",
              "    <div class=\"colab-df-container\">\n",
              "      <div>\n",
              "<style scoped>\n",
              "    .dataframe tbody tr th:only-of-type {\n",
              "        vertical-align: middle;\n",
              "    }\n",
              "\n",
              "    .dataframe tbody tr th {\n",
              "        vertical-align: top;\n",
              "    }\n",
              "\n",
              "    .dataframe thead th {\n",
              "        text-align: right;\n",
              "    }\n",
              "</style>\n",
              "<table border=\"1\" class=\"dataframe\">\n",
              "  <thead>\n",
              "    <tr style=\"text-align: right;\">\n",
              "      <th></th>\n",
              "      <th>Method</th>\n",
              "      <th>Training MSE</th>\n",
              "      <th>Training R2</th>\n",
              "      <th>Training MAE</th>\n",
              "      <th>Test MSE</th>\n",
              "      <th>Test R2</th>\n",
              "      <th>Test MAE</th>\n",
              "    </tr>\n",
              "  </thead>\n",
              "  <tbody>\n",
              "    <tr>\n",
              "      <th>0</th>\n",
              "      <td>Linear regression</td>\n",
              "      <td>187919374452.312775</td>\n",
              "      <td>0.415277</td>\n",
              "      <td>288941.731698</td>\n",
              "      <td>211937309665.698273</td>\n",
              "      <td>0.375671</td>\n",
              "      <td>289627.508921</td>\n",
              "    </tr>\n",
              "  </tbody>\n",
              "</table>\n",
              "</div>\n",
              "      <button class=\"colab-df-convert\" onclick=\"convertToInteractive('df-c90b53b6-a5ed-4b91-b908-35dfba6c0ca5')\"\n",
              "              title=\"Convert this dataframe to an interactive table.\"\n",
              "              style=\"display:none;\">\n",
              "\n",
              "  <svg xmlns=\"http://www.w3.org/2000/svg\" height=\"24px\"viewBox=\"0 0 24 24\"\n",
              "       width=\"24px\">\n",
              "    <path d=\"M0 0h24v24H0V0z\" fill=\"none\"/>\n",
              "    <path d=\"M18.56 5.44l.94 2.06.94-2.06 2.06-.94-2.06-.94-.94-2.06-.94 2.06-2.06.94zm-11 1L8.5 8.5l.94-2.06 2.06-.94-2.06-.94L8.5 2.5l-.94 2.06-2.06.94zm10 10l.94 2.06.94-2.06 2.06-.94-2.06-.94-.94-2.06-.94 2.06-2.06.94z\"/><path d=\"M17.41 7.96l-1.37-1.37c-.4-.4-.92-.59-1.43-.59-.52 0-1.04.2-1.43.59L10.3 9.45l-7.72 7.72c-.78.78-.78 2.05 0 2.83L4 21.41c.39.39.9.59 1.41.59.51 0 1.02-.2 1.41-.59l7.78-7.78 2.81-2.81c.8-.78.8-2.07 0-2.86zM5.41 20L4 18.59l7.72-7.72 1.47 1.35L5.41 20z\"/>\n",
              "  </svg>\n",
              "      </button>\n",
              "\n",
              "\n",
              "\n",
              "    <div id=\"df-6db92511-d849-4012-93ec-5185d8917707\">\n",
              "      <button class=\"colab-df-quickchart\" onclick=\"quickchart('df-6db92511-d849-4012-93ec-5185d8917707')\"\n",
              "              title=\"Suggest charts.\"\n",
              "              style=\"display:none;\">\n",
              "\n",
              "<svg xmlns=\"http://www.w3.org/2000/svg\" height=\"24px\"viewBox=\"0 0 24 24\"\n",
              "     width=\"24px\">\n",
              "    <g>\n",
              "        <path d=\"M19 3H5c-1.1 0-2 .9-2 2v14c0 1.1.9 2 2 2h14c1.1 0 2-.9 2-2V5c0-1.1-.9-2-2-2zM9 17H7v-7h2v7zm4 0h-2V7h2v10zm4 0h-2v-4h2v4z\"/>\n",
              "    </g>\n",
              "</svg>\n",
              "      </button>\n",
              "    </div>\n",
              "\n",
              "<style>\n",
              "  .colab-df-quickchart {\n",
              "    background-color: #E8F0FE;\n",
              "    border: none;\n",
              "    border-radius: 50%;\n",
              "    cursor: pointer;\n",
              "    display: none;\n",
              "    fill: #1967D2;\n",
              "    height: 32px;\n",
              "    padding: 0 0 0 0;\n",
              "    width: 32px;\n",
              "  }\n",
              "\n",
              "  .colab-df-quickchart:hover {\n",
              "    background-color: #E2EBFA;\n",
              "    box-shadow: 0px 1px 2px rgba(60, 64, 67, 0.3), 0px 1px 3px 1px rgba(60, 64, 67, 0.15);\n",
              "    fill: #174EA6;\n",
              "  }\n",
              "\n",
              "  [theme=dark] .colab-df-quickchart {\n",
              "    background-color: #3B4455;\n",
              "    fill: #D2E3FC;\n",
              "  }\n",
              "\n",
              "  [theme=dark] .colab-df-quickchart:hover {\n",
              "    background-color: #434B5C;\n",
              "    box-shadow: 0px 1px 3px 1px rgba(0, 0, 0, 0.15);\n",
              "    filter: drop-shadow(0px 1px 2px rgba(0, 0, 0, 0.3));\n",
              "    fill: #FFFFFF;\n",
              "  }\n",
              "</style>\n",
              "\n",
              "    <script>\n",
              "      async function quickchart(key) {\n",
              "        const containerElement = document.querySelector('#' + key);\n",
              "        const charts = await google.colab.kernel.invokeFunction(\n",
              "            'suggestCharts', [key], {});\n",
              "      }\n",
              "    </script>\n",
              "\n",
              "      <script>\n",
              "\n",
              "function displayQuickchartButton(domScope) {\n",
              "  let quickchartButtonEl =\n",
              "    domScope.querySelector('#df-6db92511-d849-4012-93ec-5185d8917707 button.colab-df-quickchart');\n",
              "  quickchartButtonEl.style.display =\n",
              "    google.colab.kernel.accessAllowed ? 'block' : 'none';\n",
              "}\n",
              "\n",
              "        displayQuickchartButton(document);\n",
              "      </script>\n",
              "      <style>\n",
              "    .colab-df-container {\n",
              "      display:flex;\n",
              "      flex-wrap:wrap;\n",
              "      gap: 12px;\n",
              "    }\n",
              "\n",
              "    .colab-df-convert {\n",
              "      background-color: #E8F0FE;\n",
              "      border: none;\n",
              "      border-radius: 50%;\n",
              "      cursor: pointer;\n",
              "      display: none;\n",
              "      fill: #1967D2;\n",
              "      height: 32px;\n",
              "      padding: 0 0 0 0;\n",
              "      width: 32px;\n",
              "    }\n",
              "\n",
              "    .colab-df-convert:hover {\n",
              "      background-color: #E2EBFA;\n",
              "      box-shadow: 0px 1px 2px rgba(60, 64, 67, 0.3), 0px 1px 3px 1px rgba(60, 64, 67, 0.15);\n",
              "      fill: #174EA6;\n",
              "    }\n",
              "\n",
              "    [theme=dark] .colab-df-convert {\n",
              "      background-color: #3B4455;\n",
              "      fill: #D2E3FC;\n",
              "    }\n",
              "\n",
              "    [theme=dark] .colab-df-convert:hover {\n",
              "      background-color: #434B5C;\n",
              "      box-shadow: 0px 1px 3px 1px rgba(0, 0, 0, 0.15);\n",
              "      filter: drop-shadow(0px 1px 2px rgba(0, 0, 0, 0.3));\n",
              "      fill: #FFFFFF;\n",
              "    }\n",
              "  </style>\n",
              "\n",
              "      <script>\n",
              "        const buttonEl =\n",
              "          document.querySelector('#df-c90b53b6-a5ed-4b91-b908-35dfba6c0ca5 button.colab-df-convert');\n",
              "        buttonEl.style.display =\n",
              "          google.colab.kernel.accessAllowed ? 'block' : 'none';\n",
              "\n",
              "        async function convertToInteractive(key) {\n",
              "          const element = document.querySelector('#df-c90b53b6-a5ed-4b91-b908-35dfba6c0ca5');\n",
              "          const dataTable =\n",
              "            await google.colab.kernel.invokeFunction('convertToInteractive',\n",
              "                                                     [key], {});\n",
              "          if (!dataTable) return;\n",
              "\n",
              "          const docLinkHtml = 'Like what you see? Visit the ' +\n",
              "            '<a target=\"_blank\" href=https://colab.research.google.com/notebooks/data_table.ipynb>data table notebook</a>'\n",
              "            + ' to learn more about interactive tables.';\n",
              "          element.innerHTML = '';\n",
              "          dataTable['output_type'] = 'display_data';\n",
              "          await google.colab.output.renderOutput(dataTable, element);\n",
              "          const docLink = document.createElement('div');\n",
              "          docLink.innerHTML = docLinkHtml;\n",
              "          element.appendChild(docLink);\n",
              "        }\n",
              "      </script>\n",
              "    </div>\n",
              "  </div>\n"
            ]
          },
          "metadata": {},
          "execution_count": 12
        }
      ]
    },
    {
      "cell_type": "code",
      "source": [
        "X_test, Y_test_pred"
      ],
      "metadata": {
        "colab": {
          "base_uri": "https://localhost:8080/"
        },
        "id": "DgYF_pPDq5g_",
        "outputId": "4c00ee42-0bd4-43bf-b055-fd49dfac421b"
      },
      "execution_count": 13,
      "outputs": [
        {
          "output_type": "execute_result",
          "data": {
            "text/plain": [
              "(array([[4.000e+00, 1.790e+01, 3.082e+03, ..., 3.200e+01, 2.900e+01,\n",
              "         2.000e+00],\n",
              "        [4.000e+00, 7.900e+00, 3.079e+03, ..., 4.600e+01, 0.000e+00,\n",
              "         0.000e+00],\n",
              "        [5.000e+00, 4.600e+00, 3.142e+03, ..., 1.900e+01, 2.700e+01,\n",
              "         5.000e+00],\n",
              "        ...,\n",
              "        [4.000e+00, 6.400e+00, 3.078e+03, ..., 2.200e+01, 6.000e+00,\n",
              "         2.000e+00],\n",
              "        [3.000e+00, 9.100e+00, 3.015e+03, ..., 8.000e+00, 1.000e+01,\n",
              "         6.000e+00],\n",
              "        [3.000e+00, 7.900e+00, 3.079e+03, ..., 3.700e+01, 0.000e+00,\n",
              "         0.000e+00]]),\n",
              " array([ 919573.72142341, 1533027.91645931, 1714433.40855458, ...,\n",
              "        1505875.62403648,  949384.44623779, 1329394.3119783 ]))"
            ]
          },
          "metadata": {},
          "execution_count": 13
        }
      ]
    },
    {
      "cell_type": "code",
      "source": [
        "import pandas as pd\n",
        "\n",
        "# Sample array\n",
        "data = X_test\n",
        "\n",
        "# Create a DataFrame from the array\n",
        "df = pd.DataFrame(data)\n",
        "\n",
        "# Define the CSV file path\n",
        "csv_file = 'data.csv'\n",
        "\n",
        "# Write DataFrame to CSV file\n",
        "df.to_csv(csv_file, index=False, header=False)\n"
      ],
      "metadata": {
        "id": "HXYTUxOMrejm"
      },
      "execution_count": null,
      "outputs": []
    }
  ]
}